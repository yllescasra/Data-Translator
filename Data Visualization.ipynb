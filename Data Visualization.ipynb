{
 "cells": [
  {
   "cell_type": "code",
   "execution_count": 1,
   "id": "e0856743",
   "metadata": {},
   "outputs": [],
   "source": [
    "import pandas as pd"
   ]
  },
  {
   "cell_type": "code",
   "execution_count": 5,
   "id": "49b83730",
   "metadata": {},
   "outputs": [],
   "source": [
    "# Leer los CSV\n",
    "df1=pd.read_csv(r'C:\\Users\\RYLLESC\\OneDrive - Ternium\\Data Scientist\\Data Translator\\Actividades\\Actividad Data Ingestion\\Machine-readable-business-employment-data-sep-2021-quarter.csv')\n",
    "df2=pd.read_csv(r'C:\\Users\\RYLLESC\\OneDrive - Ternium\\Data Scientist\\Data Translator\\Actividades\\Actividad Data Ingestion\\annual-enterprise-survey-2020-financial-year-provisional-csv.csv')\n",
    "df3=pd.read_csv(r'C:\\Users\\RYLLESC\\OneDrive - Ternium\\Data Scientist\\Data Translator\\Actividades\\Actividad Data Ingestion\\electronic-card-transactions-november-2021-csv-tables.csv')\n"
   ]
  },
  {
   "cell_type": "code",
   "execution_count": 11,
   "id": "36d7b952",
   "metadata": {
    "scrolled": true
   },
   "outputs": [],
   "source": [
    "#Leer los JSON\n",
    "df4=pd.read_json(r'C:\\Users\\RYLLESC\\OneDrive - Ternium\\Data Scientist\\Data Translator\\Actividades\\Actividad Data Ingestion\\todos.json')\n",
    "df5=pd.read_json(r'C:\\Users\\RYLLESC\\OneDrive - Ternium\\Data Scientist\\Data Translator\\Actividades\\Actividad Data Ingestion\\photos.json')\n",
    "df6=pd.read_json(r'C:\\Users\\RYLLESC\\OneDrive - Ternium\\Data Scientist\\Data Translator\\Actividades\\Actividad Data Ingestion\\albums.json')"
   ]
  },
  {
   "cell_type": "code",
   "execution_count": 20,
   "id": "a729469f",
   "metadata": {},
   "outputs": [],
   "source": [
    "#Convertir a CSV\n",
    "df4.to_csv(r'C:\\Users\\RYLLESC\\OneDrive - Ternium\\Data Scientist\\Data Translator\\Actividades\\Actividad Data Ingestion/todos.csv', index=False)\n",
    "df5.to_csv(r'C:\\Users\\RYLLESC\\OneDrive - Ternium\\Data Scientist\\Data Translator\\Actividades\\Actividad Data Ingestion/photos.csv', index=False)\n",
    "df6.to_csv(r'C:\\Users\\RYLLESC\\OneDrive - Ternium\\Data Scientist\\Data Translator\\Actividades\\Actividad Data Ingestion/albums.csv', index=False)"
   ]
  },
  {
   "cell_type": "code",
   "execution_count": 21,
   "id": "6bedb9cb",
   "metadata": {},
   "outputs": [],
   "source": [
    "#Convertir a EXCEL\n",
    "df1.to_excel(r'C:\\Users\\RYLLESC\\OneDrive - Ternium\\Data Scientist\\Data Translator\\Actividades\\Actividad Data Ingestion/Machine.xlsx', index=False)\n",
    "df2.to_excel(r'C:\\Users\\RYLLESC\\OneDrive - Ternium\\Data Scientist\\Data Translator\\Actividades\\Actividad Data Ingestion/Annual.xlsx', index=False)\n",
    "df3.to_excel(r'C:\\Users\\RYLLESC\\OneDrive - Ternium\\Data Scientist\\Data Translator\\Actividades\\Actividad Data Ingestion/Electronic.xlsx', index=False)\n",
    "df4.to_excel(r'C:\\Users\\RYLLESC\\OneDrive - Ternium\\Data Scientist\\Data Translator\\Actividades\\Actividad Data Ingestion/Todos.xlsx', index=False)\n",
    "df5.to_excel(r'C:\\Users\\RYLLESC\\OneDrive - Ternium\\Data Scientist\\Data Translator\\Actividades\\Actividad Data Ingestion/Photos.xlsx', index=False)\n",
    "df6.to_excel(r'C:\\Users\\RYLLESC\\OneDrive - Ternium\\Data Scientist\\Data Translator\\Actividades\\Actividad Data Ingestion/Albums.xlsx', index=False)"
   ]
  },
  {
   "cell_type": "code",
   "execution_count": 22,
   "id": "bd5dc194",
   "metadata": {},
   "outputs": [],
   "source": [
    "#Convertir a JSON\n",
    "df1.to_json(r'C:\\Users\\RYLLESC\\OneDrive - Ternium\\Data Scientist\\Data Translator\\Actividades\\Actividad Data Ingestion/Machine.json', orient='records', lines=True)\n",
    "df2.to_json(r'C:\\Users\\RYLLESC\\OneDrive - Ternium\\Data Scientist\\Data Translator\\Actividades\\Actividad Data Ingestion/Annual.json', orient='records', lines=True)\n",
    "df3.to_json(r'C:\\Users\\RYLLESC\\OneDrive - Ternium\\Data Scientist\\Data Translator\\Actividades\\Actividad Data Ingestion/Electronic.json', orient='records', lines=True)"
   ]
  },
  {
   "cell_type": "code",
   "execution_count": 17,
   "id": "e9ec1f3f",
   "metadata": {},
   "outputs": [],
   "source": [
    "import pickle\n",
    "\n",
    "with open('df1.pkl', 'wb') as archivo:\n",
    "    pickle.dump(df1, archivo)\n",
    "    \n",
    "with open('df2.pkl', 'wb') as archivo:\n",
    "    pickle.dump(df2, archivo)\n",
    "\n",
    "with open('df3.pkl', 'wb') as archivo:\n",
    "    pickle.dump(df3, archivo)\n",
    "\n",
    "with open('df4.pkl', 'wb') as archivo:\n",
    "    pickle.dump(df4, archivo)\n",
    "\n",
    "with open('df5.pkl', 'wb') as archivo:\n",
    "    pickle.dump(df5, archivo)\n",
    "\n",
    "with open('df6.pkl', 'wb') as archivo:\n",
    "    pickle.dump(df6, archivo)"
   ]
  },
  {
   "cell_type": "code",
   "execution_count": 18,
   "id": "36d01ed0",
   "metadata": {},
   "outputs": [],
   "source": [
    "with open('df1.pkl', 'rb') as archivo:\n",
    "    df1_cargado = pickle.load(archivo)\n",
    "\n",
    "with open('df2.pkl', 'rb') as archivo:\n",
    "    df2_cargado = pickle.load(archivo)\n",
    "\n",
    "with open('df3.pkl', 'rb') as archivo:\n",
    "    df3_cargado = pickle.load(archivo)\n",
    "\n",
    "with open('df4.pkl', 'rb') as archivo:\n",
    "    df4_cargado = pickle.load(archivo)\n",
    "\n",
    "with open('df5.pkl', 'rb') as archivo:\n",
    "    df5_cargado = pickle.load(archivo) \n",
    "\n",
    "with open('df6.pkl', 'rb') as archivo:\n",
    "    df6_cargado = pickle.load(archivo) "
   ]
  }
 ],
 "metadata": {
  "kernelspec": {
   "display_name": "Python 3 (ipykernel)",
   "language": "python",
   "name": "python3"
  },
  "language_info": {
   "codemirror_mode": {
    "name": "ipython",
    "version": 3
   },
   "file_extension": ".py",
   "mimetype": "text/x-python",
   "name": "python",
   "nbconvert_exporter": "python",
   "pygments_lexer": "ipython3",
   "version": "3.11.4"
  }
 },
 "nbformat": 4,
 "nbformat_minor": 5
}
